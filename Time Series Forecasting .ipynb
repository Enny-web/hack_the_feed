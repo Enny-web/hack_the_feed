{
 "cells": [
  {
   "cell_type": "code",
   "execution_count": 13,
   "id": "5aade43a",
   "metadata": {},
   "outputs": [],
   "source": [
    "import pandas as pd\n",
    "import numpy as np\n",
    "import matplotlib.pyplot as plt\n",
    "import seaborn as sns "
   ]
  },
  {
   "cell_type": "code",
   "execution_count": 14,
   "id": "76d000a7",
   "metadata": {},
   "outputs": [
    {
     "data": {
      "text/html": [
       "<div>\n",
       "<style scoped>\n",
       "    .dataframe tbody tr th:only-of-type {\n",
       "        vertical-align: middle;\n",
       "    }\n",
       "\n",
       "    .dataframe tbody tr th {\n",
       "        vertical-align: top;\n",
       "    }\n",
       "\n",
       "    .dataframe thead th {\n",
       "        text-align: right;\n",
       "    }\n",
       "</style>\n",
       "<table border=\"1\" class=\"dataframe\">\n",
       "  <thead>\n",
       "    <tr style=\"text-align: right;\">\n",
       "      <th></th>\n",
       "      <th>Date</th>\n",
       "      <th>Engagements</th>\n",
       "      <th>Hour</th>\n",
       "      <th>Month</th>\n",
       "      <th>Year</th>\n",
       "      <th>Day</th>\n",
       "      <th>Quarter</th>\n",
       "    </tr>\n",
       "  </thead>\n",
       "  <tbody>\n",
       "    <tr>\n",
       "      <th>0</th>\n",
       "      <td>2023-12-07 19:00:00</td>\n",
       "      <td>36</td>\n",
       "      <td>19</td>\n",
       "      <td>12</td>\n",
       "      <td>2023</td>\n",
       "      <td>3</td>\n",
       "      <td>4</td>\n",
       "    </tr>\n",
       "    <tr>\n",
       "      <th>1</th>\n",
       "      <td>2023-11-07 11:00:00</td>\n",
       "      <td>70</td>\n",
       "      <td>11</td>\n",
       "      <td>11</td>\n",
       "      <td>2023</td>\n",
       "      <td>1</td>\n",
       "      <td>4</td>\n",
       "    </tr>\n",
       "    <tr>\n",
       "      <th>2</th>\n",
       "      <td>2023-10-07 14:14:00</td>\n",
       "      <td>24</td>\n",
       "      <td>14</td>\n",
       "      <td>10</td>\n",
       "      <td>2023</td>\n",
       "      <td>5</td>\n",
       "      <td>4</td>\n",
       "    </tr>\n",
       "    <tr>\n",
       "      <th>3</th>\n",
       "      <td>2023-09-07 15:00:00</td>\n",
       "      <td>22</td>\n",
       "      <td>15</td>\n",
       "      <td>9</td>\n",
       "      <td>2023</td>\n",
       "      <td>3</td>\n",
       "      <td>3</td>\n",
       "    </tr>\n",
       "    <tr>\n",
       "      <th>4</th>\n",
       "      <td>2023-09-07 12:00:00</td>\n",
       "      <td>42</td>\n",
       "      <td>12</td>\n",
       "      <td>9</td>\n",
       "      <td>2023</td>\n",
       "      <td>3</td>\n",
       "      <td>3</td>\n",
       "    </tr>\n",
       "    <tr>\n",
       "      <th>...</th>\n",
       "      <td>...</td>\n",
       "      <td>...</td>\n",
       "      <td>...</td>\n",
       "      <td>...</td>\n",
       "      <td>...</td>\n",
       "      <td>...</td>\n",
       "      <td>...</td>\n",
       "    </tr>\n",
       "    <tr>\n",
       "      <th>8850</th>\n",
       "      <td>2018-01-31 15:30:00</td>\n",
       "      <td>14</td>\n",
       "      <td>15</td>\n",
       "      <td>1</td>\n",
       "      <td>2018</td>\n",
       "      <td>2</td>\n",
       "      <td>1</td>\n",
       "    </tr>\n",
       "    <tr>\n",
       "      <th>8851</th>\n",
       "      <td>2018-01-30 14:00:00</td>\n",
       "      <td>21</td>\n",
       "      <td>14</td>\n",
       "      <td>1</td>\n",
       "      <td>2018</td>\n",
       "      <td>1</td>\n",
       "      <td>1</td>\n",
       "    </tr>\n",
       "    <tr>\n",
       "      <th>8852</th>\n",
       "      <td>2018-01-30 10:00:00</td>\n",
       "      <td>25</td>\n",
       "      <td>10</td>\n",
       "      <td>1</td>\n",
       "      <td>2018</td>\n",
       "      <td>1</td>\n",
       "      <td>1</td>\n",
       "    </tr>\n",
       "    <tr>\n",
       "      <th>8853</th>\n",
       "      <td>2018-01-29 12:12:00</td>\n",
       "      <td>60</td>\n",
       "      <td>12</td>\n",
       "      <td>1</td>\n",
       "      <td>2018</td>\n",
       "      <td>0</td>\n",
       "      <td>1</td>\n",
       "    </tr>\n",
       "    <tr>\n",
       "      <th>8854</th>\n",
       "      <td>2018-01-29 10:00:00</td>\n",
       "      <td>31</td>\n",
       "      <td>10</td>\n",
       "      <td>1</td>\n",
       "      <td>2018</td>\n",
       "      <td>0</td>\n",
       "      <td>1</td>\n",
       "    </tr>\n",
       "  </tbody>\n",
       "</table>\n",
       "<p>8855 rows × 7 columns</p>\n",
       "</div>"
      ],
      "text/plain": [
       "                     Date  Engagements  Hour  Month  Year  Day  Quarter\n",
       "0     2023-12-07 19:00:00           36    19     12  2023    3        4\n",
       "1     2023-11-07 11:00:00           70    11     11  2023    1        4\n",
       "2     2023-10-07 14:14:00           24    14     10  2023    5        4\n",
       "3     2023-09-07 15:00:00           22    15      9  2023    3        3\n",
       "4     2023-09-07 12:00:00           42    12      9  2023    3        3\n",
       "...                   ...          ...   ...    ...   ...  ...      ...\n",
       "8850  2018-01-31 15:30:00           14    15      1  2018    2        1\n",
       "8851  2018-01-30 14:00:00           21    14      1  2018    1        1\n",
       "8852  2018-01-30 10:00:00           25    10      1  2018    1        1\n",
       "8853  2018-01-29 12:12:00           60    12      1  2018    0        1\n",
       "8854  2018-01-29 10:00:00           31    10      1  2018    0        1\n",
       "\n",
       "[8855 rows x 7 columns]"
      ]
     },
     "execution_count": 14,
     "metadata": {},
     "output_type": "execute_result"
    }
   ],
   "source": [
    "df = pd.read_csv('Modelling data.csv')\n",
    "df"
   ]
  },
  {
   "cell_type": "code",
   "execution_count": 15,
   "id": "46cd5d34",
   "metadata": {},
   "outputs": [],
   "source": [
    "df = df.drop(['Hour','Month','Year','Day','Quarter'],axis = 1)"
   ]
  },
  {
   "cell_type": "code",
   "execution_count": 16,
   "id": "715a4722",
   "metadata": {},
   "outputs": [
    {
     "data": {
      "text/html": [
       "<div>\n",
       "<style scoped>\n",
       "    .dataframe tbody tr th:only-of-type {\n",
       "        vertical-align: middle;\n",
       "    }\n",
       "\n",
       "    .dataframe tbody tr th {\n",
       "        vertical-align: top;\n",
       "    }\n",
       "\n",
       "    .dataframe thead th {\n",
       "        text-align: right;\n",
       "    }\n",
       "</style>\n",
       "<table border=\"1\" class=\"dataframe\">\n",
       "  <thead>\n",
       "    <tr style=\"text-align: right;\">\n",
       "      <th></th>\n",
       "      <th>Date</th>\n",
       "      <th>Engagements</th>\n",
       "    </tr>\n",
       "  </thead>\n",
       "  <tbody>\n",
       "    <tr>\n",
       "      <th>0</th>\n",
       "      <td>2023-12-07 19:00:00</td>\n",
       "      <td>36</td>\n",
       "    </tr>\n",
       "    <tr>\n",
       "      <th>1</th>\n",
       "      <td>2023-11-07 11:00:00</td>\n",
       "      <td>70</td>\n",
       "    </tr>\n",
       "    <tr>\n",
       "      <th>2</th>\n",
       "      <td>2023-10-07 14:14:00</td>\n",
       "      <td>24</td>\n",
       "    </tr>\n",
       "    <tr>\n",
       "      <th>3</th>\n",
       "      <td>2023-09-07 15:00:00</td>\n",
       "      <td>22</td>\n",
       "    </tr>\n",
       "    <tr>\n",
       "      <th>4</th>\n",
       "      <td>2023-09-07 12:00:00</td>\n",
       "      <td>42</td>\n",
       "    </tr>\n",
       "    <tr>\n",
       "      <th>...</th>\n",
       "      <td>...</td>\n",
       "      <td>...</td>\n",
       "    </tr>\n",
       "    <tr>\n",
       "      <th>8850</th>\n",
       "      <td>2018-01-31 15:30:00</td>\n",
       "      <td>14</td>\n",
       "    </tr>\n",
       "    <tr>\n",
       "      <th>8851</th>\n",
       "      <td>2018-01-30 14:00:00</td>\n",
       "      <td>21</td>\n",
       "    </tr>\n",
       "    <tr>\n",
       "      <th>8852</th>\n",
       "      <td>2018-01-30 10:00:00</td>\n",
       "      <td>25</td>\n",
       "    </tr>\n",
       "    <tr>\n",
       "      <th>8853</th>\n",
       "      <td>2018-01-29 12:12:00</td>\n",
       "      <td>60</td>\n",
       "    </tr>\n",
       "    <tr>\n",
       "      <th>8854</th>\n",
       "      <td>2018-01-29 10:00:00</td>\n",
       "      <td>31</td>\n",
       "    </tr>\n",
       "  </tbody>\n",
       "</table>\n",
       "<p>8855 rows × 2 columns</p>\n",
       "</div>"
      ],
      "text/plain": [
       "                     Date  Engagements\n",
       "0     2023-12-07 19:00:00           36\n",
       "1     2023-11-07 11:00:00           70\n",
       "2     2023-10-07 14:14:00           24\n",
       "3     2023-09-07 15:00:00           22\n",
       "4     2023-09-07 12:00:00           42\n",
       "...                   ...          ...\n",
       "8850  2018-01-31 15:30:00           14\n",
       "8851  2018-01-30 14:00:00           21\n",
       "8852  2018-01-30 10:00:00           25\n",
       "8853  2018-01-29 12:12:00           60\n",
       "8854  2018-01-29 10:00:00           31\n",
       "\n",
       "[8855 rows x 2 columns]"
      ]
     },
     "execution_count": 16,
     "metadata": {},
     "output_type": "execute_result"
    }
   ],
   "source": [
    "df"
   ]
  },
  {
   "cell_type": "code",
   "execution_count": 17,
   "id": "545de3a1",
   "metadata": {},
   "outputs": [
    {
     "data": {
      "text/plain": [
       "Date           object\n",
       "Engagements     int64\n",
       "dtype: object"
      ]
     },
     "execution_count": 17,
     "metadata": {},
     "output_type": "execute_result"
    }
   ],
   "source": [
    "df.dtypes"
   ]
  },
  {
   "cell_type": "code",
   "execution_count": 18,
   "id": "c108d087",
   "metadata": {},
   "outputs": [],
   "source": [
    "df['Date'] = pd.to_datetime(df['Date'])"
   ]
  },
  {
   "cell_type": "code",
   "execution_count": 19,
   "id": "70e4e54f",
   "metadata": {},
   "outputs": [
    {
     "data": {
      "text/plain": [
       "Date           datetime64[ns]\n",
       "Engagements             int64\n",
       "dtype: object"
      ]
     },
     "execution_count": 19,
     "metadata": {},
     "output_type": "execute_result"
    }
   ],
   "source": [
    "df.dtypes"
   ]
  },
  {
   "cell_type": "code",
   "execution_count": 20,
   "id": "aae7443c",
   "metadata": {},
   "outputs": [],
   "source": [
    "df.set_index('Date',inplace = True)"
   ]
  },
  {
   "cell_type": "code",
   "execution_count": 21,
   "id": "2a595fad",
   "metadata": {},
   "outputs": [
    {
     "data": {
      "text/html": [
       "<div>\n",
       "<style scoped>\n",
       "    .dataframe tbody tr th:only-of-type {\n",
       "        vertical-align: middle;\n",
       "    }\n",
       "\n",
       "    .dataframe tbody tr th {\n",
       "        vertical-align: top;\n",
       "    }\n",
       "\n",
       "    .dataframe thead th {\n",
       "        text-align: right;\n",
       "    }\n",
       "</style>\n",
       "<table border=\"1\" class=\"dataframe\">\n",
       "  <thead>\n",
       "    <tr style=\"text-align: right;\">\n",
       "      <th></th>\n",
       "      <th>Engagements</th>\n",
       "    </tr>\n",
       "    <tr>\n",
       "      <th>Date</th>\n",
       "      <th></th>\n",
       "    </tr>\n",
       "  </thead>\n",
       "  <tbody>\n",
       "    <tr>\n",
       "      <th>2023-12-07 19:00:00</th>\n",
       "      <td>36</td>\n",
       "    </tr>\n",
       "    <tr>\n",
       "      <th>2023-11-07 11:00:00</th>\n",
       "      <td>70</td>\n",
       "    </tr>\n",
       "    <tr>\n",
       "      <th>2023-10-07 14:14:00</th>\n",
       "      <td>24</td>\n",
       "    </tr>\n",
       "    <tr>\n",
       "      <th>2023-09-07 15:00:00</th>\n",
       "      <td>22</td>\n",
       "    </tr>\n",
       "    <tr>\n",
       "      <th>2023-09-07 12:00:00</th>\n",
       "      <td>42</td>\n",
       "    </tr>\n",
       "    <tr>\n",
       "      <th>...</th>\n",
       "      <td>...</td>\n",
       "    </tr>\n",
       "    <tr>\n",
       "      <th>2018-01-31 15:30:00</th>\n",
       "      <td>14</td>\n",
       "    </tr>\n",
       "    <tr>\n",
       "      <th>2018-01-30 14:00:00</th>\n",
       "      <td>21</td>\n",
       "    </tr>\n",
       "    <tr>\n",
       "      <th>2018-01-30 10:00:00</th>\n",
       "      <td>25</td>\n",
       "    </tr>\n",
       "    <tr>\n",
       "      <th>2018-01-29 12:12:00</th>\n",
       "      <td>60</td>\n",
       "    </tr>\n",
       "    <tr>\n",
       "      <th>2018-01-29 10:00:00</th>\n",
       "      <td>31</td>\n",
       "    </tr>\n",
       "  </tbody>\n",
       "</table>\n",
       "<p>8855 rows × 1 columns</p>\n",
       "</div>"
      ],
      "text/plain": [
       "                     Engagements\n",
       "Date                            \n",
       "2023-12-07 19:00:00           36\n",
       "2023-11-07 11:00:00           70\n",
       "2023-10-07 14:14:00           24\n",
       "2023-09-07 15:00:00           22\n",
       "2023-09-07 12:00:00           42\n",
       "...                          ...\n",
       "2018-01-31 15:30:00           14\n",
       "2018-01-30 14:00:00           21\n",
       "2018-01-30 10:00:00           25\n",
       "2018-01-29 12:12:00           60\n",
       "2018-01-29 10:00:00           31\n",
       "\n",
       "[8855 rows x 1 columns]"
      ]
     },
     "execution_count": 21,
     "metadata": {},
     "output_type": "execute_result"
    }
   ],
   "source": [
    "df"
   ]
  },
  {
   "cell_type": "code",
   "execution_count": 22,
   "id": "77df352f",
   "metadata": {},
   "outputs": [
    {
     "data": {
      "text/plain": [
       "Engagements    0\n",
       "dtype: int64"
      ]
     },
     "execution_count": 22,
     "metadata": {},
     "output_type": "execute_result"
    }
   ],
   "source": [
    "df.isna().sum()"
   ]
  },
  {
   "cell_type": "code",
   "execution_count": 24,
   "id": "c13297af",
   "metadata": {},
   "outputs": [
    {
     "data": {
      "text/html": [
       "<div>\n",
       "<style scoped>\n",
       "    .dataframe tbody tr th:only-of-type {\n",
       "        vertical-align: middle;\n",
       "    }\n",
       "\n",
       "    .dataframe tbody tr th {\n",
       "        vertical-align: top;\n",
       "    }\n",
       "\n",
       "    .dataframe thead th {\n",
       "        text-align: right;\n",
       "    }\n",
       "</style>\n",
       "<table border=\"1\" class=\"dataframe\">\n",
       "  <thead>\n",
       "    <tr style=\"text-align: right;\">\n",
       "      <th></th>\n",
       "      <th>Engagements</th>\n",
       "    </tr>\n",
       "  </thead>\n",
       "  <tbody>\n",
       "    <tr>\n",
       "      <th>count</th>\n",
       "      <td>8855.000000</td>\n",
       "    </tr>\n",
       "    <tr>\n",
       "      <th>mean</th>\n",
       "      <td>74.548165</td>\n",
       "    </tr>\n",
       "    <tr>\n",
       "      <th>std</th>\n",
       "      <td>281.970140</td>\n",
       "    </tr>\n",
       "    <tr>\n",
       "      <th>min</th>\n",
       "      <td>-23.000000</td>\n",
       "    </tr>\n",
       "    <tr>\n",
       "      <th>25%</th>\n",
       "      <td>14.000000</td>\n",
       "    </tr>\n",
       "    <tr>\n",
       "      <th>50%</th>\n",
       "      <td>27.000000</td>\n",
       "    </tr>\n",
       "    <tr>\n",
       "      <th>75%</th>\n",
       "      <td>58.500000</td>\n",
       "    </tr>\n",
       "    <tr>\n",
       "      <th>max</th>\n",
       "      <td>14972.000000</td>\n",
       "    </tr>\n",
       "  </tbody>\n",
       "</table>\n",
       "</div>"
      ],
      "text/plain": [
       "        Engagements\n",
       "count   8855.000000\n",
       "mean      74.548165\n",
       "std      281.970140\n",
       "min      -23.000000\n",
       "25%       14.000000\n",
       "50%       27.000000\n",
       "75%       58.500000\n",
       "max    14972.000000"
      ]
     },
     "execution_count": 24,
     "metadata": {},
     "output_type": "execute_result"
    }
   ],
   "source": [
    "df.describe()"
   ]
  },
  {
   "cell_type": "code",
   "execution_count": 26,
   "id": "1c14a43c",
   "metadata": {},
   "outputs": [
    {
     "data": {
      "text/plain": [
       "<Axes: xlabel='Date'>"
      ]
     },
     "execution_count": 26,
     "metadata": {},
     "output_type": "execute_result"
    },
    {
     "data": {
      "image/png": "[encoded data removed]",
      "text/plain": [
       "<Figure size 640x480 with 1 Axes>"
      ]
     },
     "metadata": {},
     "output_type": "display_data"
    }
   ],
   "source": [
    "df.plot()"
   ]
  },
  {
   "cell_type": "code",
   "execution_count": 27,
   "id": "acfc8803",
   "metadata": {},
   "outputs": [],
   "source": [
    "#Test for stationarity\n",
    "from statsmodels.tsa.stattools import adfuller"
   ]
  },
  {
   "cell_type": "code",
   "execution_count": 28,
   "id": "8eea5090",
   "metadata": {},
   "outputs": [],
   "source": [
    "test_results = adfuller(df['Engagements'])"
   ]
  },
  {
   "cell_type": "code",
   "execution_count": 32,
   "id": "97672560",
   "metadata": {},
   "outputs": [],
   "source": [
    "def adfuller_test(sales):\n",
    "    result=adfuller(sales)\n",
    "    labels = ['ADF Test Statistic','p-value','#Lags Used','Number of Observations Used']\n",
    "    for value,label in zip(result,labels):\n",
    "        print(label+' : '+str(value) )\n",
    "    if result[1] <= 0.05:\n",
    "        print(\"strong evidence against the null hypothesis(Ho), reject the null hypothesis. Data has no unit root and is stationary\")\n",
    "    else:\n",
    "        print(\"weak evidence against null hypothesis, time series has a unit root, indicating it is non-stationary \")\n",
    "    "
   ]
  },
  {
   "cell_type": "code",
   "execution_count": 33,
   "id": "4e5d085d",
   "metadata": {},
   "outputs": [
    {
     "data": {
      "text/plain": [
       "(-10.432985602430131,\n",
       " 1.5928404868922831e-18,\n",
       " 32,\n",
       " 8822,\n",
       " {'1%': -3.431091464947151,\n",
       "  '5%': -2.8618676785820667,\n",
       "  '10%': -2.566944418318808},\n",
       " 124327.05646600907)"
      ]
     },
     "execution_count": 33,
     "metadata": {},
     "output_type": "execute_result"
    }
   ],
   "source": [
    "adfuller(df['Engagements'])"
   ]
  },
  {
   "cell_type": "code",
   "execution_count": 34,
   "id": "1750effa",
   "metadata": {},
   "outputs": [],
   "source": [
    "# p-value here is  1.5928404868922831e-18,relaltively zero. Data is stationary and null hypothesis will be rejected"
   ]
  },
  {
   "cell_type": "code",
   "execution_count": 35,
   "id": "7d689319",
   "metadata": {},
   "outputs": [],
   "source": [
    "# Differencing for auto correlation\n",
    "df['Engs First Difference'] = df['Engagements'] - df['Engagements'].shift(1)"
   ]
  },
  {
   "cell_type": "code",
   "execution_count": 37,
   "id": "8bfa6acf",
   "metadata": {},
   "outputs": [
    {
     "data": {
      "text/plain": [
       "Date\n",
       "2023-12-07 19:00:00     NaN\n",
       "2023-11-07 11:00:00    36.0\n",
       "2023-10-07 14:14:00    70.0\n",
       "2023-09-07 15:00:00    24.0\n",
       "2023-09-07 12:00:00    22.0\n",
       "                       ... \n",
       "2018-01-31 15:30:00    18.0\n",
       "2018-01-30 14:00:00    14.0\n",
       "2018-01-30 10:00:00    21.0\n",
       "2018-01-29 12:12:00    25.0\n",
       "2018-01-29 10:00:00    60.0\n",
       "Name: Engagements, Length: 8855, dtype: float64"
      ]
     },
     "execution_count": 37,
     "metadata": {},
     "output_type": "execute_result"
    }
   ],
   "source": [
    "df['Engagements'].shift(1)"
   ]
  },
  {
   "cell_type": "code",
   "execution_count": 38,
   "id": "7702f189",
   "metadata": {},
   "outputs": [],
   "source": [
    "df['Engs First Difference']=df['Engagements']-df['Engagements'].shift(12)"
   ]
  },
  {
   "cell_type": "code",
   "execution_count": 39,
   "id": "c1eed098",
   "metadata": {},
   "outputs": [
    {
     "data": {
      "text/html": [
       "<div>\n",
       "<style scoped>\n",
       "    .dataframe tbody tr th:only-of-type {\n",
       "        vertical-align: middle;\n",
       "    }\n",
       "\n",
       "    .dataframe tbody tr th {\n",
       "        vertical-align: top;\n",
       "    }\n",
       "\n",
       "    .dataframe thead th {\n",
       "        text-align: right;\n",
       "    }\n",
       "</style>\n",
       "<table border=\"1\" class=\"dataframe\">\n",
       "  <thead>\n",
       "    <tr style=\"text-align: right;\">\n",
       "      <th></th>\n",
       "      <th>Engagements</th>\n",
       "      <th>Engs First Difference</th>\n",
       "    </tr>\n",
       "    <tr>\n",
       "      <th>Date</th>\n",
       "      <th></th>\n",
       "      <th></th>\n",
       "    </tr>\n",
       "  </thead>\n",
       "  <tbody>\n",
       "    <tr>\n",
       "      <th>2023-12-07 19:00:00</th>\n",
       "      <td>36</td>\n",
       "      <td>NaN</td>\n",
       "    </tr>\n",
       "    <tr>\n",
       "      <th>2023-11-07 11:00:00</th>\n",
       "      <td>70</td>\n",
       "      <td>NaN</td>\n",
       "    </tr>\n",
       "    <tr>\n",
       "      <th>2023-10-07 14:14:00</th>\n",
       "      <td>24</td>\n",
       "      <td>NaN</td>\n",
       "    </tr>\n",
       "    <tr>\n",
       "      <th>2023-09-07 15:00:00</th>\n",
       "      <td>22</td>\n",
       "      <td>NaN</td>\n",
       "    </tr>\n",
       "    <tr>\n",
       "      <th>2023-09-07 12:00:00</th>\n",
       "      <td>42</td>\n",
       "      <td>NaN</td>\n",
       "    </tr>\n",
       "    <tr>\n",
       "      <th>...</th>\n",
       "      <td>...</td>\n",
       "      <td>...</td>\n",
       "    </tr>\n",
       "    <tr>\n",
       "      <th>2018-01-31 15:30:00</th>\n",
       "      <td>14</td>\n",
       "      <td>0.0</td>\n",
       "    </tr>\n",
       "    <tr>\n",
       "      <th>2018-01-30 14:00:00</th>\n",
       "      <td>21</td>\n",
       "      <td>-1.0</td>\n",
       "    </tr>\n",
       "    <tr>\n",
       "      <th>2018-01-30 10:00:00</th>\n",
       "      <td>25</td>\n",
       "      <td>9.0</td>\n",
       "    </tr>\n",
       "    <tr>\n",
       "      <th>2018-01-29 12:12:00</th>\n",
       "      <td>60</td>\n",
       "      <td>39.0</td>\n",
       "    </tr>\n",
       "    <tr>\n",
       "      <th>2018-01-29 10:00:00</th>\n",
       "      <td>31</td>\n",
       "      <td>12.0</td>\n",
       "    </tr>\n",
       "  </tbody>\n",
       "</table>\n",
       "<p>8855 rows × 2 columns</p>\n",
       "</div>"
      ],
      "text/plain": [
       "                     Engagements  Engs First Difference\n",
       "Date                                                   \n",
       "2023-12-07 19:00:00           36                    NaN\n",
       "2023-11-07 11:00:00           70                    NaN\n",
       "2023-10-07 14:14:00           24                    NaN\n",
       "2023-09-07 15:00:00           22                    NaN\n",
       "2023-09-07 12:00:00           42                    NaN\n",
       "...                          ...                    ...\n",
       "2018-01-31 15:30:00           14                    0.0\n",
       "2018-01-30 14:00:00           21                   -1.0\n",
       "2018-01-30 10:00:00           25                    9.0\n",
       "2018-01-29 12:12:00           60                   39.0\n",
       "2018-01-29 10:00:00           31                   12.0\n",
       "\n",
       "[8855 rows x 2 columns]"
      ]
     },
     "execution_count": 39,
     "metadata": {},
     "output_type": "execute_result"
    }
   ],
   "source": [
    "df"
   ]
  },
  {
   "cell_type": "code",
   "execution_count": 40,
   "id": "12b3e7d3",
   "metadata": {},
   "outputs": [
    {
     "name": "stdout",
     "output_type": "stream",
     "text": [
      "ADF Test Statistic : -25.514690245105733\n",
      "p-value : 0.0\n",
      "#Lags Used : 35\n",
      "Number of Observations Used : 8807\n",
      "strong evidence against the null hypothesis(Ho), reject the null hypothesis. Data has no unit root and is stationary\n"
     ]
    }
   ],
   "source": [
    "adfuller_test(df['Engs First Difference'].dropna())"
   ]
  },
  {
   "cell_type": "code",
   "execution_count": 41,
   "id": "215ddc88",
   "metadata": {},
   "outputs": [
    {
     "data": {
      "text/plain": [
       "<Axes: xlabel='Date'>"
      ]
     },
     "execution_count": 41,
     "metadata": {},
     "output_type": "execute_result"
    },
    {
     "data": {
      "image/png": "[encoded data removed]",
      "text/plain": [
       "<Figure size 640x480 with 1 Axes>"
      ]
     },
     "metadata": {},
     "output_type": "display_data"
    }
   ],
   "source": [
    "df['Engs First Difference'].plot()"
   ]
  },
  {
   "cell_type": "code",
   "execution_count": 48,
   "id": "9e8e5a46",
   "metadata": {},
   "outputs": [
    {
     "data": {
      "image/png": "[encoded data removed]",
      "text/plain": [
       "<Figure size 640x480 with 1 Axes>"
      ]
     },
     "metadata": {},
     "output_type": "display_data"
    }
   ],
   "source": [
    "# autocorrelation plot for the first 150 rows\n",
    "from pandas.plotting import autocorrelation_plot\n",
    "autocorrelation_plot(df['Engagements'][:150])\n",
    "plt.show()"
   ]
  },
  {
   "cell_type": "code",
   "execution_count": 55,
   "id": "2597b356",
   "metadata": {},
   "outputs": [
    {
     "name": "stderr",
     "output_type": "stream",
     "text": [
      "C:\\Users\\ADETUNJI ENIOLA\\anaconda3\\lib\\site-packages\\statsmodels\\tsa\\base\\tsa_model.py:471: ValueWarning: A date index has been provided, but it has no associated frequency information and so will be ignored when e.g. forecasting.\n",
      "  self._init_dates(dates, freq)\n",
      "C:\\Users\\ADETUNJI ENIOLA\\anaconda3\\lib\\site-packages\\statsmodels\\tsa\\base\\tsa_model.py:471: ValueWarning: A date index has been provided, but it is not monotonic and so will be ignored when e.g. forecasting.\n",
      "  self._init_dates(dates, freq)\n",
      "C:\\Users\\ADETUNJI ENIOLA\\anaconda3\\lib\\site-packages\\statsmodels\\tsa\\base\\tsa_model.py:471: ValueWarning: A date index has been provided, but it has no associated frequency information and so will be ignored when e.g. forecasting.\n",
      "  self._init_dates(dates, freq)\n",
      "C:\\Users\\ADETUNJI ENIOLA\\anaconda3\\lib\\site-packages\\statsmodels\\tsa\\base\\tsa_model.py:471: ValueWarning: A date index has been provided, but it is not monotonic and so will be ignored when e.g. forecasting.\n",
      "  self._init_dates(dates, freq)\n"
     ]
    }
   ],
   "source": [
    "model=sm.tsa.statespace.SARIMAX(df['Engagements'],order=(1, 1, 1),seasonal_order=(1,1,1,12))\n",
    "results=model.fit()"
   ]
  },
  {
   "cell_type": "code",
   "execution_count": 56,
   "id": "e12d495c",
   "metadata": {},
   "outputs": [
    {
     "data": {
      "text/html": [
       "<table class=\"simpletable\">\n",
       "<caption>SARIMAX Results</caption>\n",
       "<tr>\n",
       "  <th>Dep. Variable:</th>      <td>Engagements</td>   <th>  No. Observations:  </th>    <td>8855</td>   \n",
       "</tr>\n",
       "<tr>\n",
       "  <th>Model:</th>            <td>ARIMA(1, 1, 1)</td>  <th>  Log Likelihood     </th> <td>-62387.905</td>\n",
       "</tr>\n",
       "<tr>\n",
       "  <th>Date:</th>            <td>Sun, 08 Oct 2023</td> <th>  AIC                </th> <td>124781.810</td>\n",
       "</tr>\n",
       "<tr>\n",
       "  <th>Time:</th>                <td>16:46:11</td>     <th>  BIC                </th> <td>124803.076</td>\n",
       "</tr>\n",
       "<tr>\n",
       "  <th>Sample:</th>                  <td>0</td>        <th>  HQIC               </th> <td>124789.052</td>\n",
       "</tr>\n",
       "<tr>\n",
       "  <th></th>                      <td> - 8855</td>     <th>                     </th>      <td> </td>    \n",
       "</tr>\n",
       "<tr>\n",
       "  <th>Covariance Type:</th>        <td>opg</td>       <th>                     </th>      <td> </td>    \n",
       "</tr>\n",
       "</table>\n",
       "<table class=\"simpletable\">\n",
       "<tr>\n",
       "     <td></td>       <th>coef</th>     <th>std err</th>      <th>z</th>      <th>P>|z|</th>  <th>[0.025</th>    <th>0.975]</th>  \n",
       "</tr>\n",
       "<tr>\n",
       "  <th>ar.L1</th>  <td>    0.0107</td> <td>    0.008</td> <td>    1.285</td> <td> 0.199</td> <td>   -0.006</td> <td>    0.027</td>\n",
       "</tr>\n",
       "<tr>\n",
       "  <th>ma.L1</th>  <td>   -0.9886</td> <td>    0.001</td> <td> -788.041</td> <td> 0.000</td> <td>   -0.991</td> <td>   -0.986</td>\n",
       "</tr>\n",
       "<tr>\n",
       "  <th>sigma2</th> <td> 7.721e+04</td> <td>   61.622</td> <td> 1252.977</td> <td> 0.000</td> <td> 7.71e+04</td> <td> 7.73e+04</td>\n",
       "</tr>\n",
       "</table>\n",
       "<table class=\"simpletable\">\n",
       "<tr>\n",
       "  <th>Ljung-Box (L1) (Q):</th>     <td>0.00</td> <th>  Jarque-Bera (JB):  </th> <td>385703423.54</td>\n",
       "</tr>\n",
       "<tr>\n",
       "  <th>Prob(Q):</th>                <td>0.98</td> <th>  Prob(JB):          </th>     <td>0.00</td>    \n",
       "</tr>\n",
       "<tr>\n",
       "  <th>Heteroskedasticity (H):</th> <td>0.10</td> <th>  Skew:              </th>     <td>24.79</td>   \n",
       "</tr>\n",
       "<tr>\n",
       "  <th>Prob(H) (two-sided):</th>    <td>0.00</td> <th>  Kurtosis:          </th>    <td>1024.30</td>  \n",
       "</tr>\n",
       "</table><br/><br/>Warnings:<br/>[1] Covariance matrix calculated using the outer product of gradients (complex-step)."
      ],
      "text/plain": [
       "<class 'statsmodels.iolib.summary.Summary'>\n",
       "\"\"\"\n",
       "                               SARIMAX Results                                \n",
       "==============================================================================\n",
       "Dep. Variable:            Engagements   No. Observations:                 8855\n",
       "Model:                 ARIMA(1, 1, 1)   Log Likelihood              -62387.905\n",
       "Date:                Sun, 08 Oct 2023   AIC                         124781.810\n",
       "Time:                        16:46:11   BIC                         124803.076\n",
       "Sample:                             0   HQIC                        124789.052\n",
       "                               - 8855                                         \n",
       "Covariance Type:                  opg                                         \n",
       "==============================================================================\n",
       "                 coef    std err          z      P>|z|      [0.025      0.975]\n",
       "------------------------------------------------------------------------------\n",
       "ar.L1          0.0107      0.008      1.285      0.199      -0.006       0.027\n",
       "ma.L1         -0.9886      0.001   -788.041      0.000      -0.991      -0.986\n",
       "sigma2      7.721e+04     61.622   1252.977      0.000    7.71e+04    7.73e+04\n",
       "===================================================================================\n",
       "Ljung-Box (L1) (Q):                   0.00   Jarque-Bera (JB):         385703423.54\n",
       "Prob(Q):                              0.98   Prob(JB):                         0.00\n",
       "Heteroskedasticity (H):               0.10   Skew:                            24.79\n",
       "Prob(H) (two-sided):                  0.00   Kurtosis:                      1024.30\n",
       "===================================================================================\n",
       "\n",
       "Warnings:\n",
       "[1] Covariance matrix calculated using the outer product of gradients (complex-step).\n",
       "\"\"\""
      ]
     },
     "execution_count": 56,
     "metadata": {},
     "output_type": "execute_result"
    }
   ],
   "source": [
    "model_fit.summary()"
   ]
  },
  {
   "cell_type": "code",
   "execution_count": 71,
   "id": "c76d5078",
   "metadata": {},
   "outputs": [
    {
     "data": {
      "text/plain": [
       "<Axes: xlabel='Date'>"
      ]
     },
     "execution_count": 71,
     "metadata": {},
     "output_type": "execute_result"
    },
    {
     "data": {
      "image/png": "[encoded data removed]",
      "text/plain": [
       "<Figure size 1200x800 with 1 Axes>"
      ]
     },
     "metadata": {},
     "output_type": "display_data"
    }
   ],
   "source": [
    "df['forecast']=results.predict(start=90,end=103,dynamic=True)\n",
    "df[['Engagements','forecast']].plot(figsize=(12,8))"
   ]
  },
  {
   "cell_type": "code",
   "execution_count": 70,
   "id": "89c38e56",
   "metadata": {},
   "outputs": [],
   "source": [
    "# The model predicts that Engagement would come up from June 2023 up to September and engagements will decline through December"
   ]
  },
  {
   "cell_type": "code",
   "execution_count": 72,
   "id": "7c1e378b",
   "metadata": {},
   "outputs": [
    {
     "data": {
      "text/html": [
       "<div>\n",
       "<style scoped>\n",
       "    .dataframe tbody tr th:only-of-type {\n",
       "        vertical-align: middle;\n",
       "    }\n",
       "\n",
       "    .dataframe tbody tr th {\n",
       "        vertical-align: top;\n",
       "    }\n",
       "\n",
       "    .dataframe thead th {\n",
       "        text-align: right;\n",
       "    }\n",
       "</style>\n",
       "<table border=\"1\" class=\"dataframe\">\n",
       "  <thead>\n",
       "    <tr style=\"text-align: right;\">\n",
       "      <th></th>\n",
       "      <th>Engagements</th>\n",
       "      <th>Engs First Difference</th>\n",
       "      <th>forecast</th>\n",
       "    </tr>\n",
       "    <tr>\n",
       "      <th>Date</th>\n",
       "      <th></th>\n",
       "      <th></th>\n",
       "      <th></th>\n",
       "    </tr>\n",
       "  </thead>\n",
       "  <tbody>\n",
       "    <tr>\n",
       "      <th>2023-05-17 17:21:00</th>\n",
       "      <td>25</td>\n",
       "      <td>-17.0</td>\n",
       "      <td>195.430929</td>\n",
       "    </tr>\n",
       "    <tr>\n",
       "      <th>2023-05-17 17:06:00</th>\n",
       "      <td>21</td>\n",
       "      <td>-30.0</td>\n",
       "      <td>255.990244</td>\n",
       "    </tr>\n",
       "    <tr>\n",
       "      <th>2023-05-17 09:30:00</th>\n",
       "      <td>61</td>\n",
       "      <td>15.0</td>\n",
       "      <td>75.069168</td>\n",
       "    </tr>\n",
       "    <tr>\n",
       "      <th>2023-05-16 12:00:00</th>\n",
       "      <td>38</td>\n",
       "      <td>-60.0</td>\n",
       "      <td>50.180967</td>\n",
       "    </tr>\n",
       "    <tr>\n",
       "      <th>2023-05-14 12:15:00</th>\n",
       "      <td>36</td>\n",
       "      <td>-33.0</td>\n",
       "      <td>121.459583</td>\n",
       "    </tr>\n",
       "    <tr>\n",
       "      <th>2023-05-13 18:45:00</th>\n",
       "      <td>48</td>\n",
       "      <td>-33.0</td>\n",
       "      <td>52.874184</td>\n",
       "    </tr>\n",
       "    <tr>\n",
       "      <th>2023-05-13 15:30:00</th>\n",
       "      <td>111</td>\n",
       "      <td>67.0</td>\n",
       "      <td>53.787459</td>\n",
       "    </tr>\n",
       "    <tr>\n",
       "      <th>2023-05-13 10:30:00</th>\n",
       "      <td>259</td>\n",
       "      <td>201.0</td>\n",
       "      <td>54.215602</td>\n",
       "    </tr>\n",
       "    <tr>\n",
       "      <th>2023-12-05 16:30:00</th>\n",
       "      <td>26</td>\n",
       "      <td>-10.0</td>\n",
       "      <td>48.959397</td>\n",
       "    </tr>\n",
       "    <tr>\n",
       "      <th>2023-11-05 19:00:00</th>\n",
       "      <td>49</td>\n",
       "      <td>13.0</td>\n",
       "      <td>49.547412</td>\n",
       "    </tr>\n",
       "    <tr>\n",
       "      <th>2023-11-05 16:00:00</th>\n",
       "      <td>38</td>\n",
       "      <td>-433.0</td>\n",
       "      <td>118.915144</td>\n",
       "    </tr>\n",
       "    <tr>\n",
       "      <th>2023-11-05 12:00:00</th>\n",
       "      <td>13</td>\n",
       "      <td>-22.0</td>\n",
       "      <td>50.253589</td>\n",
       "    </tr>\n",
       "    <tr>\n",
       "      <th>2023-11-05 08:00:00</th>\n",
       "      <td>34</td>\n",
       "      <td>9.0</td>\n",
       "      <td>203.921614</td>\n",
       "    </tr>\n",
       "    <tr>\n",
       "      <th>2023-10-05 22:02:00</th>\n",
       "      <td>33</td>\n",
       "      <td>12.0</td>\n",
       "      <td>265.914726</td>\n",
       "    </tr>\n",
       "    <tr>\n",
       "      <th>2023-05-17 17:21:00</th>\n",
       "      <td>7</td>\n",
       "      <td>-23.0</td>\n",
       "      <td>195.430929</td>\n",
       "    </tr>\n",
       "    <tr>\n",
       "      <th>2023-05-17 09:30:00</th>\n",
       "      <td>19</td>\n",
       "      <td>14.0</td>\n",
       "      <td>75.069168</td>\n",
       "    </tr>\n",
       "    <tr>\n",
       "      <th>2023-05-14 12:15:00</th>\n",
       "      <td>6</td>\n",
       "      <td>-1698.0</td>\n",
       "      <td>121.459583</td>\n",
       "    </tr>\n",
       "    <tr>\n",
       "      <th>2023-12-05 16:30:00</th>\n",
       "      <td>3</td>\n",
       "      <td>-16.0</td>\n",
       "      <td>48.959397</td>\n",
       "    </tr>\n",
       "    <tr>\n",
       "      <th>2023-11-05 16:00:00</th>\n",
       "      <td>3</td>\n",
       "      <td>-8.0</td>\n",
       "      <td>118.915144</td>\n",
       "    </tr>\n",
       "    <tr>\n",
       "      <th>2023-11-05 12:00:00</th>\n",
       "      <td>1</td>\n",
       "      <td>-5.0</td>\n",
       "      <td>50.253589</td>\n",
       "    </tr>\n",
       "  </tbody>\n",
       "</table>\n",
       "</div>"
      ],
      "text/plain": [
       "                     Engagements  Engs First Difference    forecast\n",
       "Date                                                               \n",
       "2023-05-17 17:21:00           25                  -17.0  195.430929\n",
       "2023-05-17 17:06:00           21                  -30.0  255.990244\n",
       "2023-05-17 09:30:00           61                   15.0   75.069168\n",
       "2023-05-16 12:00:00           38                  -60.0   50.180967\n",
       "2023-05-14 12:15:00           36                  -33.0  121.459583\n",
       "2023-05-13 18:45:00           48                  -33.0   52.874184\n",
       "2023-05-13 15:30:00          111                   67.0   53.787459\n",
       "2023-05-13 10:30:00          259                  201.0   54.215602\n",
       "2023-12-05 16:30:00           26                  -10.0   48.959397\n",
       "2023-11-05 19:00:00           49                   13.0   49.547412\n",
       "2023-11-05 16:00:00           38                 -433.0  118.915144\n",
       "2023-11-05 12:00:00           13                  -22.0   50.253589\n",
       "2023-11-05 08:00:00           34                    9.0  203.921614\n",
       "2023-10-05 22:02:00           33                   12.0  265.914726\n",
       "2023-05-17 17:21:00            7                  -23.0  195.430929\n",
       "2023-05-17 09:30:00           19                   14.0   75.069168\n",
       "2023-05-14 12:15:00            6                -1698.0  121.459583\n",
       "2023-12-05 16:30:00            3                  -16.0   48.959397\n",
       "2023-11-05 16:00:00            3                   -8.0  118.915144\n",
       "2023-11-05 12:00:00            1                   -5.0   50.253589"
      ]
     },
     "execution_count": 72,
     "metadata": {},
     "output_type": "execute_result"
    }
   ],
   "source": [
    "df"
   ]
  },
  {
   "cell_type": "code",
   "execution_count": null,
   "id": "ca94d3d1",
   "metadata": {},
   "outputs": [],
   "source": []
  }
 ],
 "metadata": {
  "kernelspec": {
   "display_name": "Python 3 (ipykernel)",
   "language": "python",
   "name": "python3"
  },
  "language_info": {
   "codemirror_mode": {
    "name": "ipython",
    "version": 3
   },
   "file_extension": ".py",
   "mimetype": "text/x-python",
   "name": "python",
   "nbconvert_exporter": "python",
   "pygments_lexer": "ipython3",
   "version": "3.9.17"
  }
 },
 "nbformat": 4,
 "nbformat_minor": 5
}
